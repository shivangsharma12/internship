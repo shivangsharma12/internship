{
 "cells": [
  {
   "cell_type": "markdown",
   "id": "2c5c1b39-64b0-424c-8fa2-ec83fe494f5d",
   "metadata": {},
   "source": [
    "Q.1-  Write a Python program to replace all occurrences of a space, comma, or dot with a colon.\n",
    "Sample Text- 'Python Exercises, PHP exercises.'\n",
    "Expected Output: Python:Exercises::PHP:exercises:\n"
   ]
  },
  {
   "cell_type": "code",
   "execution_count": 1,
   "id": "73d9b1a7-a3cd-4e9c-bcaf-26d188d64692",
   "metadata": {},
   "outputs": [
    {
     "name": "stdout",
     "output_type": "stream",
     "text": [
      "Expected Output: Python:Exercises::PHP:exercises:\n"
     ]
    }
   ],
   "source": [
    "def replace_characters(text):\n",
    "    # Replace space, comma, and dot with colon\n",
    "    replaced_text = text.replace(' ', ':').replace(',', ':').replace('.', ':')\n",
    "    return replaced_text\n",
    "\n",
    "sample_text = 'Python Exercises, PHP exercises.'\n",
    "result = replace_characters(sample_text)\n",
    "print(\"Expected Output:\", result)\n"
   ]
  },
  {
   "cell_type": "markdown",
   "id": "7ea385dc-2b96-46cf-897e-f6e16224f09a",
   "metadata": {},
   "source": [
    "Question 2-  Create a dataframe using the dictionary below and remove everything (commas (,), !, XXXX, ;, etc.) from the columns except words.\n",
    "Dictionary- {'SUMMARY' : ['hello, world!', 'XXXXX test', '123four, five:; six...']}\n",
    "Expected output-\n",
    "0      hello world\n",
    "1             test\n",
    "2    four five six\n"
   ]
  },
  {
   "cell_type": "code",
   "execution_count": 2,
   "id": "3048120e-0705-41fb-9e8b-f29b86142678",
   "metadata": {},
   "outputs": [
    {
     "name": "stdout",
     "output_type": "stream",
     "text": [
      "      SUMMARY\n",
      "0            \n",
      "1  XXXXX test\n",
      "2            \n"
     ]
    }
   ],
   "source": [
    "import pandas as pd\n",
    "\n",
    "# Create a DataFrame from the dictionary\n",
    "data = {'SUMMARY': ['hello, world!', 'XXXXX test', '123four, five:; six...']}\n",
    "df = pd.DataFrame(data)\n",
    "\n",
    "def clean_text(text):\n",
    "    # Define characters to remove\n",
    "    remove_chars = \",!;:.\"\n",
    "\n",
    "    # Remove unwanted characters and split the text into words\n",
    "    cleaned_words = [word for word in text.split() if not any(char in word for char in remove_chars)]\n",
    "\n",
    "    # Join the cleaned words to form a sentence\n",
    "    cleaned_text = ' '.join(cleaned_words)\n",
    "\n",
    "    return cleaned_text\n",
    "\n",
    "df['SUMMARY'] = df['SUMMARY'].apply(clean_text)\n",
    "\n",
    "print(df)\n"
   ]
  },
  {
   "cell_type": "markdown",
   "id": "7d15fce3-ac91-4cac-9ccf-1a5156626a0b",
   "metadata": {},
   "source": [
    "Question 3- Create a function in python to find all words that are at least 4 characters long in a string. The use of the re.compile() method is mandatory."
   ]
  },
  {
   "cell_type": "code",
   "execution_count": 3,
   "id": "0d143e8d-df0c-4345-bf37-8e60c43aadfe",
   "metadata": {},
   "outputs": [
    {
     "name": "stdout",
     "output_type": "stream",
     "text": [
      "['Here', 'simple', 'example', 'test', 'function']\n"
     ]
    }
   ],
   "source": [
    "import re\n",
    "\n",
    "def find_long_words(text):\n",
    "    return re.compile(r'\\b\\w{4,}\\b').findall(text)\n",
    "\n",
    "\n",
    "text = \"Here is a simple example to test the function.\"\n",
    "print(find_long_words(text))\n"
   ]
  },
  {
   "cell_type": "markdown",
   "id": "872608cd-4b93-4c14-9bf7-92e013034369",
   "metadata": {},
   "source": [
    "Question 4- Create a function in python to find all three, four, and five character words in a string. The use of the re.compile() method is mandatory."
   ]
  },
  {
   "cell_type": "code",
   "execution_count": 4,
   "id": "74a3e14d-ac09-4770-a76f-5041a03229e1",
   "metadata": {},
   "outputs": [
    {
     "name": "stdout",
     "output_type": "stream",
     "text": [
      "['This', 'test', 'with', 'some', 'small', 'and', 'large', 'words']\n"
     ]
    }
   ],
   "source": [
    "import re\n",
    "\n",
    "def find_specific_words(text):\n",
    "\n",
    "    pattern = re.compile(r'\\b\\w{3,5}\\b')\n",
    "    \n",
    "   \n",
    "    words = pattern.findall(text)\n",
    "    \n",
    "    return words\n",
    "\n",
    "# Example\n",
    "text = \"This is a test string with some small and large words.\"\n",
    "print(find_specific_words(text))\n"
   ]
  },
  {
   "cell_type": "markdown",
   "id": "e899b343-0767-4779-b30e-16cf6dab19f6",
   "metadata": {},
   "source": [
    "\n",
    "Question 5- Create a function in Python to remove the parenthesis in a list of strings. The use of the re.compile() method is mandatory.\n",
    "Sample Text: [\"example (.com)\", \"hr@fliprobo (.com)\", \"github (.com)\", \"Hello (Data Science World)\", \"Data (Scientist)\"]\n",
    "Expected Output:\n",
    "example.com\n",
    "hr@fliprobo.com\n",
    "github.com\n",
    "Hello Data Science World\n",
    "Data Scientist\n"
   ]
  },
  {
   "cell_type": "code",
   "execution_count": 8,
   "id": "9003723b-86ee-44bc-a96a-cb7eff08979d",
   "metadata": {},
   "outputs": [
    {
     "name": "stdout",
     "output_type": "stream",
     "text": [
      "example\n",
      "hr@fliprobo\n",
      "github\n",
      "Hello\n",
      "Data\n"
     ]
    }
   ],
   "source": [
    "import re\n",
    "\n",
    "pattern = re.compile(r'\\s*\\([^)]*\\)')\n",
    "\n",
    "def remove_parentheses(text_list):\n",
    "    return [pattern.sub('', text) for text in text_list]\n",
    "\n",
    "\n",
    "sample_text = [\"example (.com)\", \"hr@fliprobo (.com)\", \"github (.com)\", \"Hello (Data Science World)\", \"Data (Scientist)\"]\n",
    "\n",
    "# print results\n",
    "cleaned_text = remove_parentheses(sample_text)\n",
    "print('\\n'.join(cleaned_text))\n"
   ]
  },
  {
   "cell_type": "markdown",
   "id": "2c9a46c2-6a53-48ae-8eed-9c109aa1125e",
   "metadata": {},
   "source": [
    "Question 6- Write a python program to remove the parenthesis area from the text stored in the text file using Regular Expression.\n",
    "Sample Text: [\"example (.com)\", \"hr@fliprobo (.com)\", \"github (.com)\", \"Hello (Data Science World)\", \"Data (Scientist)\"]\n",
    "Expected Output: [\"example\", \"hr@fliprobo\", \"github\", \"Hello\", \"Data\"]\n",
    "Note- Store given sample text in the text file and then to remove the parenthesis area from the text.\n"
   ]
  },
  {
   "cell_type": "code",
   "execution_count": null,
   "id": "a7dfd194-30e8-4a29-9f19-253e1cf77407",
   "metadata": {},
   "outputs": [],
   "source": []
  },
  {
   "cell_type": "markdown",
   "id": "dfe60812-36d4-4a1d-aa1f-7c278a9b9346",
   "metadata": {},
   "source": [
    "Question 7- Write a regular expression in Python to split a string into uppercase letters.\n",
    "Sample text: “ImportanceOfRegularExpressionsInPython”\n",
    "Expected Output: [‘Importance’, ‘Of’, ‘Regular’, ‘Expression’, ‘In’, ‘Python’]"
   ]
  },
  {
   "cell_type": "code",
   "execution_count": 17,
   "id": "f9193988-bedf-48c9-9c7d-10a5b2d4b9bc",
   "metadata": {},
   "outputs": [
    {
     "name": "stdout",
     "output_type": "stream",
     "text": [
      "['Importance', 'Of', 'Regular', 'Expressions', 'In', 'Python']\n"
     ]
    }
   ],
   "source": [
    "import re\n",
    "\n",
    "sample_text = \"ImportanceOfRegularExpressionsInPython\"\n",
    "\n",
    "# Regular expression to find uppercase letters\n",
    "pattern = re.compile(r'[A-Z][a-z]*')\n",
    "\n",
    "\n",
    "result = pattern.findall(sample_text)\n",
    "\n",
    "print(result)\n"
   ]
  },
  {
   "cell_type": "markdown",
   "id": "94627d30-e4ca-47b8-a500-301d2caa22c9",
   "metadata": {},
   "source": [
    "Question 8- Create a function in python to insert spaces between words starting with numbers.\n",
    "Sample Text: “RegularExpression1IsAn2ImportantTopic3InPython\"\n",
    "Expected Output: RegularExpression 1IsAn 2ImportantTopic 3InPython"
   ]
  },
  {
   "cell_type": "code",
   "execution_count": 18,
   "id": "74cde9e8-e2ca-43c1-ac1c-3246b0ac5cdf",
   "metadata": {},
   "outputs": [
    {
     "name": "stdout",
     "output_type": "stream",
     "text": [
      "RegularExpression 1IsAn 2ImportantTopic 3InPython\n"
     ]
    }
   ],
   "source": [
    "import re\n",
    "\n",
    "def insert_spaces_before_numbers(text):\n",
    "    \n",
    "    return re.sub(r'(\\D)(\\d)', r'\\1 \\2', text)\n",
    "\n",
    "\n",
    "sample_text = \"RegularExpression1IsAn2ImportantTopic3InPython\"\n",
    "\n",
    "#result\n",
    "print(insert_spaces_before_numbers(sample_text))\n"
   ]
  },
  {
   "cell_type": "markdown",
   "id": "1200a7e9-55b5-4d9d-a37e-31e21c152997",
   "metadata": {},
   "source": [
    "Question 9- Create a function in python to insert spaces between words starting with capital letters or with numbers.\n",
    "Sample Text: “RegularExpression1IsAn2ImportantTopic3InPython\"\n",
    "Expected Output:  RegularExpression 1 IsAn 2 ImportantTopic 3 InPython"
   ]
  },
  {
   "cell_type": "code",
   "execution_count": null,
   "id": "2db928d3-7c83-4626-ab18-99f71afd2d18",
   "metadata": {},
   "outputs": [],
   "source": [
    "import re\n",
    "\n",
    "def insert_spaces_before_capitals_and_numbers(text):\n",
    "    \n",
    "    return re.sub(r'(?<=[a-zA-Z0-9])(?=[A-Z]|\\d)', r' ', text)\n",
    "\n",
    "\n",
    "sample_text = \"RegularExpression1IsAn2ImportantTopic3InPython\"\n",
    "\n",
    "# result\n",
    "print(insert_spaces_before_capitals_and_numbers(sample_text))\n"
   ]
  },
  {
   "cell_type": "markdown",
   "id": "77ac861b-db6d-48f2-af18-59130449e777",
   "metadata": {},
   "source": [
    "Question 10- Use the github link below to read the data and create a dataframe. After creating the dataframe extract the first 6 letters of each country and store in the dataframe under a new column called first_five_letters.\n",
    "Github Link-  https://raw.githubusercontent.com/dsrscientist/DSData/master/happiness_score_dataset.csv"
   ]
  },
  {
   "cell_type": "code",
   "execution_count": 19,
   "id": "b027c93e-61c0-4c38-8010-5deb371c29bd",
   "metadata": {},
   "outputs": [
    {
     "name": "stdout",
     "output_type": "stream",
     "text": [
      "       Country          Region  Happiness Rank  Happiness Score  \\\n",
      "0  Switzerland  Western Europe               1            7.587   \n",
      "1      Iceland  Western Europe               2            7.561   \n",
      "2      Denmark  Western Europe               3            7.527   \n",
      "3       Norway  Western Europe               4            7.522   \n",
      "4       Canada   North America               5            7.427   \n",
      "\n",
      "   Standard Error  Economy (GDP per Capita)   Family  \\\n",
      "0         0.03411                   1.39651  1.34951   \n",
      "1         0.04884                   1.30232  1.40223   \n",
      "2         0.03328                   1.32548  1.36058   \n",
      "3         0.03880                   1.45900  1.33095   \n",
      "4         0.03553                   1.32629  1.32261   \n",
      "\n",
      "   Health (Life Expectancy)  Freedom  Trust (Government Corruption)  \\\n",
      "0                   0.94143  0.66557                        0.41978   \n",
      "1                   0.94784  0.62877                        0.14145   \n",
      "2                   0.87464  0.64938                        0.48357   \n",
      "3                   0.88521  0.66973                        0.36503   \n",
      "4                   0.90563  0.63297                        0.32957   \n",
      "\n",
      "   Generosity  Dystopia Residual first_six_letters  \n",
      "0     0.29678            2.51738            Switze  \n",
      "1     0.43630            2.70201            Icelan  \n",
      "2     0.34139            2.49204            Denmar  \n",
      "3     0.34699            2.46531            Norway  \n",
      "4     0.45811            2.45176            Canada  \n"
     ]
    }
   ],
   "source": [
    "import pandas as pd\n",
    "\n",
    "# URL to the dataset\n",
    "url = 'https://raw.githubusercontent.com/dsrscientist/DSData/master/happiness_score_dataset.csv'\n",
    "\n",
    "df = pd.read_csv(url)\n",
    "\n",
    "# Extract the first 6 letters of each country name and store in a new column\n",
    "df['first_six_letters'] = df['Country'].str.slice(0, 6)\n",
    "\n",
    "# Display the DataFrame \n",
    "print(df.head())\n"
   ]
  },
  {
   "cell_type": "markdown",
   "id": "ac9c96dd-ee61-4a5b-aef4-8df45d992ba0",
   "metadata": {},
   "source": [
    "Question 11- Write a Python program to match a string that contains only upper and lowercase letters, numbers, and underscores."
   ]
  },
  {
   "cell_type": "code",
   "execution_count": 21,
   "id": "43d0c638-94f6-4a9f-a17d-809defc4b355",
   "metadata": {},
   "outputs": [
    {
     "name": "stdout",
     "output_type": "stream",
     "text": [
      "The string matches the required pattern.\n",
      "The string does not match the required pattern.\n"
     ]
    }
   ],
   "source": [
    "import re\n",
    "\n",
    "def match_string(s):\n",
    "    pattern = r'^[A-Za-z0-9_]+$'\n",
    "    if re.match(pattern, s):\n",
    "        return \"The string matches the required pattern.\"\n",
    "    else:\n",
    "        return \"The string does not match the required pattern.\"\n",
    "\n",
    "\n",
    "print(match_string(\"This_is_3_test\"))  # Expected to match\n",
    "print(match_string(\"This is a test.\"))  # Expected not to match\n"
   ]
  },
  {
   "cell_type": "markdown",
   "id": "5c7bfb94-bdd5-449a-80f1-6f3e6f1d59f4",
   "metadata": {},
   "source": [
    "Question 12- Write a Python program where a string will start with a specific number. "
   ]
  },
  {
   "cell_type": "code",
   "execution_count": 24,
   "id": "f0f11e7b-f37f-41d6-8284-395b35bd025b",
   "metadata": {},
   "outputs": [
    {
     "name": "stdout",
     "output_type": "stream",
     "text": [
      "enter value 123dsd\n"
     ]
    },
    {
     "name": "stdout",
     "output_type": "stream",
     "text": [
      "Does '123dsd' start with 123? True\n",
      "Does '456def' start with 123? False\n"
     ]
    }
   ],
   "source": [
    "import re\n",
    "\n",
    "def starts_with_number(string, number):\n",
    "    pattern = r'^' + str(number)  \n",
    "    if re.match(pattern, string):\n",
    "        return True\n",
    "    else:\n",
    "        return False\n",
    "\n",
    "# Test \n",
    "string1 = input('enter value')\n",
    "number_to_check = 123\n",
    "\n",
    "print(f\"Does '{string1}' start with {number_to_check}? {starts_with_number(string1, number_to_check)}\")\n",
    "print(f\"Does '{string2}' start with {number_to_check}? {starts_with_number(string2, number_to_check)}\")\n"
   ]
  },
  {
   "cell_type": "markdown",
   "id": "c342c8a1-af53-4858-8310-842ecd5fa7dc",
   "metadata": {},
   "source": [
    "Question 13- Write a Python program to remove leading zeros from an IP address"
   ]
  },
  {
   "cell_type": "code",
   "execution_count": 25,
   "id": "68376a4b-a20a-46a9-a2c1-f65d21ed4373",
   "metadata": {},
   "outputs": [
    {
     "name": "stdout",
     "output_type": "stream",
     "text": [
      "Original IP address: 192.168.001.001\n",
      "IP address without leading zeros: 192.168.1.1\n"
     ]
    }
   ],
   "source": [
    "def remove_leading_zeros(ip_address):\n",
    "  \n",
    "    octets = ip_address.split('.')\n",
    "\n",
    "    # Remove leading zeros from each octet\n",
    "    cleaned_octets = [str(int(octet)) for octet in octets]\n",
    "\n",
    "    # Reconstruct the IP address\n",
    "    cleaned_ip_address = '.'.join(cleaned_octets)\n",
    "\n",
    "    return cleaned_ip_address\n",
    "\n",
    "# Test \n",
    "ip_address = '192.168.001.001'\n",
    "cleaned_ip_address = remove_leading_zeros(ip_address)\n",
    "print(\"Original IP address:\", ip_address)\n",
    "print(\"IP address without leading zeros:\", cleaned_ip_address)\n"
   ]
  },
  {
   "cell_type": "markdown",
   "id": "f46298ca-50a1-4f1a-ab6a-e69e58241c68",
   "metadata": {},
   "source": [
    "Question 14- Write a regular expression in python to match a date string in the form of Month name followed by day number and year stored in a text file.\n",
    "Sample text :  ' On August 15th 1947 that India was declared independent from British colonialism, and the reins of control were handed over to the leaders of the Country’.\n",
    "Expected Output- August 15th 1947\n",
    "Note- Store given sample text in the text file and then extract the date string asked format."
   ]
  },
  {
   "cell_type": "code",
   "execution_count": 26,
   "id": "f8a35b18-01e2-4d0f-ab02-dc1252767f36",
   "metadata": {},
   "outputs": [
    {
     "name": "stdout",
     "output_type": "stream",
     "text": [
      "Extracted date string: Date string not found in the text.\n"
     ]
    }
   ],
   "source": [
    "import re\n",
    "\n",
    "def extract_date_from_text(file_path):\n",
    "    try:\n",
    "   \n",
    "        with open(file_path, 'r') as file:\n",
    "            text = file.read()\n",
    "\n",
    "       \n",
    "        pattern = r'\\b(?:January|February|March|April|May|June|July|August|September|October|November|December)\\s+\\d{1,2}(?:st|nd|rd|th)\\s+\\d{4}\\b'\n",
    "\n",
    "      \n",
    "        match = re.search(pattern, text)\n",
    "\n",
    "        if match:\n",
    "            return match.group()\n",
    "        else:\n",
    "            return \"Date string not found in the text.\"\n",
    "\n",
    "    except FileNotFoundError:\n",
    "        return \"File not found.\"\n",
    "\n",
    "\n",
    "file_path = 'sample_text.txt'\n",
    "\n",
    "\n",
    "date_string = extract_date_from_text(file_path)\n",
    "\n",
    "print(\"Extracted date string:\", date_string)\n"
   ]
  },
  {
   "cell_type": "markdown",
   "id": "4070c213-266c-43bb-a03e-8ab175a97f95",
   "metadata": {},
   "source": [
    "Question 15- Write a Python program to search some literals strings in a string. \n",
    "Sample text : 'The quick brown fox jumps over the lazy dog.'\n",
    "Searched words : 'fox', 'dog', 'horse'"
   ]
  },
  {
   "cell_type": "code",
   "execution_count": null,
   "id": "d9415f82-91d0-4ff8-9c35-863f120ec89e",
   "metadata": {},
   "outputs": [],
   "source": [
    "def search_strings(text, searched_words):\n",
    "    found_words = []\n",
    "    for word in searched_words:\n",
    "        if text.find(word) != -1:\n",
    "            found_words.append(word)\n",
    "    return found_words\n",
    "\n",
    "\n",
    "sample_text = 'The quick brown fox jumps over the lazy dog.'\n",
    "\n",
    "\n",
    "searched_words = ['fox', 'dog', 'horse']\n",
    "\n",
    "\n",
    "found_words = search_strings(sample_text, searched_words)\n",
    "\n",
    "print(\"Found words:\", found_words)\n"
   ]
  },
  {
   "cell_type": "markdown",
   "id": "25b83b84-3406-4d33-a983-e755cd55e78c",
   "metadata": {},
   "source": [
    "Question 16- Write a Python program to search a literals string in a string and also find the location within the original string where the pattern occurs\n",
    "Sample text : 'The quick brown fox jumps over the lazy dog.'\n",
    "Searched words : 'fox'"
   ]
  },
  {
   "cell_type": "code",
   "execution_count": null,
   "id": "355ae4b2-e95f-408b-93b1-926ff3443c65",
   "metadata": {},
   "outputs": [],
   "source": [
    "def search_string_and_location(text, search_word):\n",
    "    location = text.find(search_word)\n",
    "    if location != -1:\n",
    "        return f\"The word '{search_word}' was found at position {location}.\"\n",
    "    else:\n",
    "        return f\"The word '{search_word}' was not found in the text.\"\n",
    "\n",
    "\n",
    "sample_text = 'The quick brown fox jumps over the lazy dog.'\n",
    "\n",
    "# Searched word\n",
    "searched_word = 'fox'\n",
    "\n",
    "result = search_string_and_location(sample_text, searched_word)\n",
    "\n",
    "print(result)\n"
   ]
  },
  {
   "cell_type": "markdown",
   "id": "4de795ee-e4fb-45e4-9f2f-f97c0203a3e6",
   "metadata": {},
   "source": [
    "Question 17- Write a Python program to find the substrings within a string.\n",
    "Sample text : 'Python exercises, PHP exercises, C# exercises'\n",
    "Pattern : 'exercises'."
   ]
  },
  {
   "cell_type": "code",
   "execution_count": null,
   "id": "3f06670e-913c-44d6-8e69-bc1572b001b6",
   "metadata": {},
   "outputs": [],
   "source": [
    "import re\n",
    "\n",
    "def find_substrings(text, pattern):\n",
    "  \n",
    "    matches = re.finditer(pattern, text)\n",
    "    \n",
    "    \n",
    "    matches_positions = [(match.start(), match.end()) for match in matches]\n",
    "    \n",
    "    return matches_positions\n",
    "\n",
    "\n",
    "sample_text = 'Python exercises, PHP exercises, C# exercises'\n",
    "\n",
    "\n",
    "pattern = 'exercises'\n",
    "\n",
    "\n",
    "found_substrings = find_substrings(sample_text, pattern)\n",
    "\n",
    "\n",
    "for start, end in found_substrings:\n",
    "    print(f\"Found '{pattern}' from {start} to {end}\")\n"
   ]
  },
  {
   "cell_type": "markdown",
   "id": "12784d53-a0fb-485a-9437-8a538d01c49b",
   "metadata": {},
   "source": [
    "Question 18- Write a Python program to find the occurrence and position of the substrings within a string."
   ]
  },
  {
   "cell_type": "code",
   "execution_count": null,
   "id": "f509ba81-2a8c-4d14-b4ad-9705d0cba63a",
   "metadata": {},
   "outputs": [],
   "source": [
    "def find_occurrences_and_positions(text, substring):\n",
    "    occurrences = []\n",
    "    start = text.find(substring)\n",
    "    \n",
    "    while start != -1:\n",
    "        occurrences.append(start)\n",
    "        start = text.find(substring, start + 1)\n",
    "    \n",
    "    return occurrences\n",
    "\n",
    "\n",
    "sample_text = 'Python is a powerful programming language, Python is easy to learn, Python is versatile.'\n",
    "\n",
    "\n",
    "substring = 'Python'\n",
    "\n",
    "\n",
    "occurrences_positions = find_occurrences_and_positions(sample_text, substring)\n",
    "\n",
    "\n",
    "print(f\"The substring '{substring}' occurred {len(occurrences_positions)} times at positions:\")\n",
    "for position in occurrences_positions:\n",
    "    print(position)\n"
   ]
  },
  {
   "cell_type": "markdown",
   "id": "ab6aed15-f143-459a-9d1a-151dbf45fb21",
   "metadata": {},
   "source": [
    "Question 19- Write a Python program to convert a date of yyyy-mm-dd format to dd-mm-yyyy format."
   ]
  },
  {
   "cell_type": "code",
   "execution_count": null,
   "id": "9158ceb6-3b36-44bb-9838-4c48d2599f96",
   "metadata": {},
   "outputs": [],
   "source": [
    "from datetime import datetime\n",
    "\n",
    "def convert_date_format(date_string):\n",
    "    \n",
    "    original_date = datetime.strptime(date_string, '%Y-%m-%d')\n",
    "    \n",
    "    # Convert it to dd-mm-yyyy format\n",
    "    new_date_format = original_date.strftime('%d-%m-%Y')\n",
    "    \n",
    "    return new_date_format\n",
    "\n",
    "\n",
    "sample_date = '2023-03-07'\n",
    "\n",
    "# Convert to dd-mm-yyyy format\n",
    "converted_date = convert_date_format(sample_date)\n",
    "\n",
    "print(\"Original Date in yyyy-mm-dd Format:\", sample_date)\n",
    "print(\"Converted Date in dd-mm-yyyy Format:\", converted_date)\n"
   ]
  },
  {
   "cell_type": "markdown",
   "id": "53bcfd77-a1e8-40ad-8081-5a0af0851cb3",
   "metadata": {},
   "source": [
    "Question 20- Create a function in python to find all decimal numbers with a precision of 1 or 2 in a string. The use of the re.compile() method is mandatory.\n",
    "Sample Text: \"01.12 0132.123 2.31875 145.8 3.01 27.25 0.25\"\n",
    "Expected Output: ['01.12', '145.8', '3.01', '27.25', '0.25']"
   ]
  },
  {
   "cell_type": "code",
   "execution_count": null,
   "id": "b905c409-5bc4-47ff-af6e-b255955c382d",
   "metadata": {},
   "outputs": [],
   "source": [
    "import re\n",
    "\n",
    "def find_decimal_numbers(text):\n",
    "    pattern = re.compile(r'\\b\\d+\\.\\d{1,2}\\b')\n",
    "    decimal_numbers = pattern.findall(text)\n",
    "    return decimal_numbers\n",
    "\n",
    "\n",
    "sample_text = \"01.12 0132.123 2.31875 145.8 3.01 27.25 0.25\"\n",
    "\n",
    "# Find decimal numbers with precision of 1 or 2\n",
    "decimal_numbers = find_decimal_numbers(sample_text)\n",
    "print(decimal_numbers)\n"
   ]
  },
  {
   "cell_type": "markdown",
   "id": "b5f01096-4434-4829-b917-3db765207802",
   "metadata": {},
   "source": [
    "Question 21- Write a Python program to separate and print the numbers and their position of a given string."
   ]
  },
  {
   "cell_type": "code",
   "execution_count": null,
   "id": "12862219-2f2e-415b-ae77-9923eabe032a",
   "metadata": {},
   "outputs": [],
   "source": [
    "import re\n",
    "\n",
    "def find_numbers_with_positions(text):\n",
    "    \n",
    "    pattern = re.finditer(r'\\d+', text)\n",
    "    \n",
    "    for match in pattern:\n",
    "        print(f\"Number: {match.group()}, Position: {match.start()}\")\n",
    "\n",
    "\n",
    "sample_text = \"The price of the product is $25 and the quantity is 10.\"\n",
    "\n",
    "# Find numbers and their positions in the string\n",
    "find_numbers_with_positions(sample_text)\n"
   ]
  },
  {
   "cell_type": "markdown",
   "id": "6c40f69a-44a2-4fb7-bb14-757f185718fe",
   "metadata": {},
   "source": [
    "Question 22- Write a regular expression in python program to extract maximum/largest numeric value from a string.\n",
    "Sample Text:  'My marks in each semester are: 947, 896, 926, 524, 734, 950, 642'\n",
    "Expected Output: 950"
   ]
  },
  {
   "cell_type": "code",
   "execution_count": null,
   "id": "cf9b6ef1-4499-4e62-a0d0-f57a3628f9d9",
   "metadata": {},
   "outputs": [],
   "source": [
    "import re\n",
    "\n",
    "def find_maximum_numeric_value(text):\n",
    "   \n",
    "    numbers = re.findall(r'\\d+', text)\n",
    "    \n",
    "    \n",
    "    numbers = [int(number) for number in numbers]\n",
    "    \n",
    "    \n",
    "    max_value = max(numbers)\n",
    "    \n",
    "    return max_value\n",
    "\n",
    "sample_text = 'My marks in each semester are: 947, 896, 926, 524, 734, 950, 642'\n",
    "\n",
    "# Extract the maximum numeric value\n",
    "max_numeric_value = find_maximum_numeric_value(sample_text)\n",
    "print(f\"The maximum numeric value is: {max_numeric_value}\")\n"
   ]
  },
  {
   "cell_type": "markdown",
   "id": "e751ff61-98b1-4880-b7ed-12021a098c60",
   "metadata": {},
   "source": [
    "Question 23- Create a function in python to insert spaces between words starting with capital letters.\n",
    "Sample Text: “RegularExpressionIsAnImportantTopicInPython\"\n",
    "Expected Output: Regular Expression Is An Important Topic In Python"
   ]
  },
  {
   "cell_type": "code",
   "execution_count": null,
   "id": "50888562-1356-45e9-93ac-be6e7107b746",
   "metadata": {},
   "outputs": [],
   "source": [
    "import re\n",
    "\n",
    "def insert_spaces(text):\n",
    "\n",
    "    updated_text = re.sub(r'([a-z])([A-Z])', r'\\1 \\2', text)\n",
    "    return updated_text\n",
    "\n",
    "\n",
    "sample_text = \"RegularExpressionIsAnImportantTopicInPython\"\n",
    "\n",
    "# Insert spaces between words starting with capital letters\n",
    "result = insert_spaces(sample_text)\n",
    "\n",
    "print(\"Original Text:\", sample_text)\n",
    "print(\"Updated Text:\", result)\n"
   ]
  },
  {
   "cell_type": "markdown",
   "id": "d400d3ad-87bd-4b32-a72c-8321ea347722",
   "metadata": {},
   "source": [
    "Question 24- Python regex to find sequences of one upper case letter followed by lower case letters"
   ]
  },
  {
   "cell_type": "code",
   "execution_count": null,
   "id": "115420ad-a0dd-49de-bb64-809b97e15e40",
   "metadata": {},
   "outputs": [],
   "source": [
    "import re\n",
    "\n",
    "def find_sequences(text):\n",
    "    pattern = re.compile(r'[A-Z][a-z]+')\n",
    "    sequences = pattern.findall(text)\n",
    "    return sequences\n",
    "\n",
    "\n",
    "sample_text = \"The Quick Brown Fox Jumps Over The Lazy Dog.\"\n",
    "\n",
    "\n",
    "result = find_sequences(sample_text)\n",
    "print(\"Sequences found:\", result)\n"
   ]
  },
  {
   "cell_type": "markdown",
   "id": "53974c38-a15c-4937-88b2-e21be0a63a4c",
   "metadata": {},
   "source": [
    "Question 25- Write a Python program to remove continuous duplicate words from Sentence using Regular Expression.\n",
    "Sample Text: \"Hello hello world world\"\n",
    "Expected Output: Hello hello world"
   ]
  },
  {
   "cell_type": "code",
   "execution_count": null,
   "id": "12acd7eb-76b8-4d2d-a5fb-770b15948175",
   "metadata": {},
   "outputs": [],
   "source": [
    "import re\n",
    "\n",
    "def remove_continuous_duplicates(sentence):\n",
    "  \n",
    "    pattern = re.compile(r'\\b(\\w+)\\s+\\1\\b', re.IGNORECASE)\n",
    "    \n",
    "    result = pattern.sub(r'\\1', sentence)\n",
    "    return result\n",
    "\n",
    "\n",
    "sample_text = \"Hello hello world world\"\n",
    "\n",
    "\n",
    "result = remove_continuous_duplicates(sample_text)\n",
    "print(\"Original Text:\", sample_text)\n",
    "print(\"After removing duplicates:\", result)\n"
   ]
  },
  {
   "cell_type": "markdown",
   "id": "a8a2a66b-5400-4161-b8d9-e0c3d6ca8766",
   "metadata": {},
   "source": [
    "Question 26-  Write a python program using RegEx to accept string ending with alphanumeric character."
   ]
  },
  {
   "cell_type": "code",
   "execution_count": null,
   "id": "f5495ef7-5a8f-4d72-b891-f07588ea6515",
   "metadata": {},
   "outputs": [],
   "source": [
    "import re\n",
    "\n",
    "def ends_with_alphanumeric(string):\n",
    "    pattern = re.compile(r'.*[a-zA-Z0-9]$')\n",
    "    match = pattern.match(string)\n",
    "    return match is not None\n",
    "\n",
    "\n",
    "test_strings = [\"hello123\", \"world456\", \"python!\", \"12345\"]\n",
    "\n",
    "for string in test_strings:\n",
    "    if ends_with_alphanumeric(string):\n",
    "        print(f\"'{string}' ends with an alphanumeric character.\")\n",
    "    else:\n",
    "        print(f\"'{string}' does not end with an alphanumeric character.\")\n"
   ]
  },
  {
   "cell_type": "markdown",
   "id": "226b308f-0460-42b6-b19e-b478f92fe3ec",
   "metadata": {},
   "source": [
    "Question 27-Write a python program using RegEx to extract the hashtags.\n",
    "Sample Text:  \"\"\"RT @kapil_kausik: #Doltiwal I mean #xyzabc is \"hurt\" by #Demonetization as the same has rendered USELESS <ed><U+00A0><U+00BD><ed><U+00B1><U+0089> \"acquired funds\" No wo\"\"\"\n",
    "Expected Output: ['#Doltiwal', '#xyzabc', '#Demonetization']"
   ]
  },
  {
   "cell_type": "code",
   "execution_count": null,
   "id": "06d57be6-0d4c-4dd2-a775-f932afaf6797",
   "metadata": {},
   "outputs": [],
   "source": [
    "import re\n",
    "\n",
    "def extract_hashtags(text):\n",
    "    \n",
    "    pattern = r'#\\w+'\n",
    "    hashtags = re.findall(pattern, text)\n",
    "    return hashtags\n",
    "\n",
    "\n",
    "sample_text = \"\"\"RT @kapil_kausik: #Doltiwal I mean #xyzabc is \"hurt\" by #Demonetization as the same has rendered USELESS <ed><U+00A0><U+00BD><ed><U+00B1><U+0089> \"acquired funds\" No wo\"\"\"\n",
    "\n",
    "# Extract hashtags from the sample text\n",
    "hashtags = extract_hashtags(sample_text)\n",
    "print(hashtags)\n"
   ]
  },
  {
   "cell_type": "markdown",
   "id": "727fb63a-5651-4f6f-a5d4-16cc7fd85ad2",
   "metadata": {},
   "source": [
    "Question 28- Write a python program using RegEx to remove <U+..> like symbols\n",
    "Check the below sample text, there are strange symbols something of the sort <U+..> all over the place. You need to come up with a general Regex expression that will cover all such symbols.\n",
    "Sample Text: \"@Jags123456 Bharat band on 28??<ed><U+00A0><U+00BD><ed><U+00B8><U+0082>Those who  are protesting #demonetization  are all different party leaders\"\n",
    "Expected Output: @Jags123456 Bharat band on 28??<ed><ed>Those who  are protesting #demonetization  are all different party leaders"
   ]
  },
  {
   "cell_type": "code",
   "execution_count": null,
   "id": "1eebe655-77cf-4c6c-a15f-3ad4c8ad0c56",
   "metadata": {},
   "outputs": [],
   "source": []
  },
  {
   "cell_type": "markdown",
   "id": "465c146f-2746-4ba1-b44a-b33c3ae9b5a0",
   "metadata": {},
   "source": [
    "Question 29- Write a python program to extract dates from the text stored in the text file.\n",
    "Sample Text: Ron was born on 12-09-1992 and he was admitted to school 15-12-1999.\n",
    "Note- Store this sample text in the file and then extract dates."
   ]
  },
  {
   "cell_type": "code",
   "execution_count": null,
   "id": "49dad461-77d3-4efe-84f6-c1f3481fe0fd",
   "metadata": {},
   "outputs": [],
   "source": []
  },
  {
   "cell_type": "markdown",
   "id": "f0dde40d-6ea7-4705-abf0-d1e627b5ab77",
   "metadata": {},
   "source": [
    "Question 30- Create a function in python to remove all words from a string of length between 2 and 4.\n",
    "The use of the re.compile() method is mandatory.\n",
    "Sample Text: \"The following example creates an ArrayList with a capacity of 50 elements. 4 elements are then added to the ArrayList and the ArrayList is trimmed accordingly.\"\n",
    "Expected Output:  following example creates ArrayList a capacity elements. 4 elements added ArrayList ArrayList trimmed accordingly."
   ]
  },
  {
   "cell_type": "code",
   "execution_count": 27,
   "id": "5dfcd654-85f1-4cd3-8562-e05ad4d1b02e",
   "metadata": {},
   "outputs": [
    {
     "name": "stdout",
     "output_type": "stream",
     "text": [
      " following example creates  ArrayList  a capacity   elements. 4 elements   added   ArrayList   ArrayList  trimmed accordingly.\n"
     ]
    }
   ],
   "source": [
    "import re\n",
    "\n",
    "def remove_words_of_length_between_2_and_4(text):\n",
    "    # Define the regular expression pattern to match words of length 2 to 4\n",
    "    pattern = re.compile(r'\\b\\w{2,4}\\b')\n",
    "\n",
    "    # Replace matched words with an empty string\n",
    "    cleaned_text = pattern.sub('', text)\n",
    "\n",
    "    return cleaned_text\n",
    "\n",
    "# Sample text\n",
    "sample_text = \"The following example creates an ArrayList with a capacity of 50 elements. 4 elements are then added to the ArrayList and the ArrayList is trimmed accordingly.\"\n",
    "\n",
    "# Remove words of length between 2 and 4 from the sample text\n",
    "cleaned_text = remove_words_of_length_between_2_and_4(sample_text)\n",
    "print(cleaned_text)\n"
   ]
  },
  {
   "cell_type": "code",
   "execution_count": null,
   "id": "22d5845b-d4ca-407c-9850-7763830aa29b",
   "metadata": {},
   "outputs": [],
   "source": []
  }
 ],
 "metadata": {
  "kernelspec": {
   "display_name": "Python 3 (ipykernel)",
   "language": "python",
   "name": "python3"
  },
  "language_info": {
   "codemirror_mode": {
    "name": "ipython",
    "version": 3
   },
   "file_extension": ".py",
   "mimetype": "text/x-python",
   "name": "python",
   "nbconvert_exporter": "python",
   "pygments_lexer": "ipython3",
   "version": "3.11.7"
  }
 },
 "nbformat": 4,
 "nbformat_minor": 5
}
